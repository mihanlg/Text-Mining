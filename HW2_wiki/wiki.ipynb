{
 "cells": [
  {
   "cell_type": "code",
   "execution_count": 171,
   "metadata": {
    "collapsed": true
   },
   "outputs": [],
   "source": [
    "import requests\n",
    "from bs4 import BeautifulSoup\n",
    "from nltk.tokenize import sent_tokenize, word_tokenize\n",
    "import pymorphy2\n",
    "from collections import defaultdict\n",
    "from sklearn.feature_extraction import DictVectorizer\n",
    "from sklearn.feature_extraction.text import TfidfTransformer\n",
    "import numpy as np"
   ]
  },
  {
   "cell_type": "code",
   "execution_count": 183,
   "metadata": {
    "collapsed": true
   },
   "outputs": [],
   "source": [
    "morph = pymorphy2.MorphAnalyzer()\n",
    "def normalize_split_sentence(sentence):\n",
    "    sentence_dict = defaultdict(int)\n",
    "    for word in word_tokenize(re.sub(r'[^\\w]|[0-9]+', ' ', sentence, flags=re.U), language='russian'):\n",
    "        sentence_dict[morph.parse(word)[0].normal_form] += 1\n",
    "    return sentence_dict"
   ]
  },
  {
   "cell_type": "code",
   "execution_count": 184,
   "metadata": {
    "collapsed": true
   },
   "outputs": [],
   "source": [
    "def construct_base(urls):\n",
    "    if type(urls) != list:\n",
    "        urls = [urls]\n",
    "    sentences = []\n",
    "    sentences_normal = []\n",
    "    for url in urls:\n",
    "        wiki = requests.get(url)\n",
    "        soup = BeautifulSoup(wiki.text, 'html.parser')\n",
    "        content = soup.find(id=\"mw-content-text\")\n",
    "        for p in content.findAll('p', recursive=False):\n",
    "            for sentence in sent_tokenize(p.text, language='russian'):\n",
    "                sentences.append(sentence)\n",
    "                sentences_normal.append(normalize_split_sentence(sentence))\n",
    "    dict_to_vec = DictVectorizer()\n",
    "    vec_to_weights = TfidfTransformer()\n",
    "    sentences_weights = vec_to_weights.fit_transform(dict_to_vec.fit_transform(sentences_normal)).toarray()\n",
    "    return np.array(sentences), sentences_weights, dict_to_vec, vec_to_weights"
   ]
  },
  {
   "cell_type": "code",
   "execution_count": 185,
   "metadata": {
    "collapsed": true
   },
   "outputs": [],
   "source": [
    "def sort_sentences_by_query(urls, query):\n",
    "    sentences, sentences_weights, dict_to_vec, vec_to_weights = construct_base(urls)\n",
    "    query_weights = vec_to_weights.transform(dict_to_vec.transform(normalize_split_sentence(query))).toarray()\n",
    "    cosine = np.sum(sentences_weights*query_weights, axis=1)\n",
    "    return sentences[cosine.argsort()[::-1]]"
   ]
  },
  {
   "cell_type": "code",
   "execution_count": 188,
   "metadata": {
    "collapsed": true
   },
   "outputs": [],
   "source": [
    "def print_sorted(sentences):\n",
    "    for i, sent in enumerate(sentences):\n",
    "        print i+1, ':\\t', sent"
   ]
  },
  {
   "cell_type": "markdown",
   "metadata": {},
   "source": [
    "<center><font size=\"5\">Факт <b>\"Минирование берегов спасает популяцию пингвинов\"</b> содержится в 1-м предложении.</font></center>"
   ]
  },
  {
   "cell_type": "code",
   "execution_count": 195,
   "metadata": {
    "collapsed": false
   },
   "outputs": [
    {
     "name": "stdout",
     "output_type": "stream",
     "text": [
      "1 :\tЭти огороженные колючей проволокой территории неожиданно способствовали увеличению популяции пингвинов, находившихся здесь на грани исчезновения[10].\n",
      "2 :\tВес пингвина оказался недостачным для срабатывания мин.\n",
      "3 :\tМеста обитания оказались настолько популярными и прибыльными для экотуризма, что появились люди, протестующие против обезвреживания мин[11].\n",
      "4 :\tТаким образом, они могут благополучно размножаться без помех со стороны людей.\n",
      "5 :\tНа 2000 год на Фолклендских островах на 117 минных полях общей площадью 20 км2 находилось 25 тысяч необезвреженных мин[8], в том числе противотанковых FMK-3[9].\n"
     ]
    }
   ],
   "source": [
    "url = u'https://ru.wikipedia.org/wiki/FMK-3_(мина)'\n",
    "query = u'Минирование берегов спасает популяцию пингвинов.'\n",
    "sentences_sorted = sort_sentences_by_query(url, query)\n",
    "print_sorted(sentences_sorted[:5])"
   ]
  },
  {
   "cell_type": "markdown",
   "metadata": {},
   "source": [
    "<center><font size=\"5\">Факт <b>\"Для профессионального японского футболиста очень важна причёска\"</b> содержится во 2-м предложении.</font></center>"
   ]
  },
  {
   "cell_type": "code",
   "execution_count": 194,
   "metadata": {
    "collapsed": false
   },
   "outputs": [
    {
     "name": "stdout",
     "output_type": "stream",
     "text": [
      "1 :\tВ Японской профессиональной футбольной лиге зарегистрировано более 900 000 футболистов, а количество профессиональных футбольных клубов в стране превышает 40[2].\n",
      "2 :\tДля привлечения фанатов используются разнообразные маркетинговые стратегии: изначально при выборе клубов-основателей перед созданием Джей-лиги выбор был сделан в пользу провинциальных команд, что увеличило популярность футбола в сельской местности; кроме того, особое внимание уделяется образу игроков для завлечения фанаток, в частности в модных журналах регулярно выходят обзоры причёсок и одежды футболистов[8].\n",
      "3 :\tЗарплаты футболистов составляют около половины затрат[7].\n",
      "4 :\tЯпонская профессиональная футбольная лига является одной из сильнейших в Азии, она дважды (в 2007 и 2008) выигрывала кубок АФК.\n",
      "5 :\tНа вершине структуры футбольных лиг находятся первый и второй дивизионы Японской профессиональной футбольной лиги (называемой также Джей-лигой, от англ. J. League), ниже которых располагаются полупрофессиональная Японская футбольная лига, девять региональных лиг[en] и 47 лиг префектур[6].\n"
     ]
    }
   ],
   "source": [
    "url = u'https://ru.wikipedia.org/wiki/Футбол_в_Японии'\n",
    "query = u'Для профессионального японского футболиста очень важна причёска.'\n",
    "sentences_sorted = sort_sentences_by_query(url, query)\n",
    "print_sorted(sentences_sorted[:5])"
   ]
  },
  {
   "cell_type": "markdown",
   "metadata": {},
   "source": [
    "<center><font size=\"5\">Факт <b>\"Мексиканская империя терпеливо ждала, пока страны Центральной Америки согласятся быть аннексированными\"</b> содержится во 2-м предложении.</font></center>"
   ]
  },
  {
   "cell_type": "code",
   "execution_count": 193,
   "metadata": {
    "collapsed": false
   },
   "outputs": [
    {
     "name": "stdout",
     "output_type": "stream",
     "text": [
      "1 :\t1 июля 1823 года была принята Декларация о полной независимости Центральной Америки, вновь отделившая её от Мексики.\n",
      "2 :\t3 декабря 1821 года, Гаинса написал ответное письмо к Итурбиде, в котором указал, что для принятия решения ему необходимо выяснить мнение представителей всех административных единиц Центральной Америки, и попросил срок до 3 января 1822 года, а до этого времени мексиканские войска, уже подошедшие к границе[2], не должны были вторгаться в Центральную Америку.\n",
      "3 :\tЦентральная Америка была административно выделена в качестве генерал-капитанства Гватемалы внутри вицекоролевства Новой Испании (Мексики) в 1609 году.\n",
      "4 :\tОднако 29 октября 1821 года Итурбиде — уже в качестве регента Мексиканской империи — отправил письмо генерал-капитану Временной консультативной хунты Центральной Америки Габино Гаинсе (исп.) с предложением о присоединении к Мексике[1] на основе «трёх гарантий», указанных в Кордовском договоре.\n",
      "5 :\tОднако уже 19 марта 1823 года Итурбиде отрёкся от престола и бежал из страны.\n"
     ]
    }
   ],
   "source": [
    "url = u'https://ru.wikipedia.org/wiki/Первая_Мексиканская_империя'\n",
    "url2 = u'https://ru.wikipedia.org/wiki/Центральная_Америка'\n",
    "url3 = u'https://ru.wikipedia.org/wiki/Аннексия_Центральной_Америки_Мексикой'\n",
    "\n",
    "query = u'Мексиканская империя терпеливо ждала, пока страны Центральной Америки согласятся быть аннексированными.'\n",
    "\n",
    "sentences_sorted = sort_sentences_by_query(url3, query)\n",
    "print_sorted(sentences_sorted[:5])"
   ]
  },
  {
   "cell_type": "code",
   "execution_count": null,
   "metadata": {
    "collapsed": true
   },
   "outputs": [],
   "source": []
  }
 ],
 "metadata": {
  "kernelspec": {
   "display_name": "Python 2",
   "language": "python",
   "name": "python2"
  },
  "language_info": {
   "codemirror_mode": {
    "name": "ipython",
    "version": 2
   },
   "file_extension": ".py",
   "mimetype": "text/x-python",
   "name": "python",
   "nbconvert_exporter": "python",
   "pygments_lexer": "ipython2",
   "version": "2.7.12"
  }
 },
 "nbformat": 4,
 "nbformat_minor": 1
}
