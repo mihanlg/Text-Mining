{
 "cells": [
  {
   "cell_type": "code",
   "execution_count": 1,
   "metadata": {
    "collapsed": true
   },
   "outputs": [],
   "source": [
    "import numpy as np"
   ]
  },
  {
   "cell_type": "markdown",
   "metadata": {},
   "source": [
    "## Задание 1"
   ]
  },
  {
   "cell_type": "code",
   "execution_count": 8,
   "metadata": {
    "collapsed": true
   },
   "outputs": [],
   "source": [
    "def AP(n, string):\n",
    "    precision = 0\n",
    "    n_of_R = 0.0\n",
    "    for i, letter in enumerate(string.upper()):\n",
    "        if letter == 'R':\n",
    "            n_of_R += 1\n",
    "            precision += n_of_R/(i+1)\n",
    "    return precision/n"
   ]
  },
  {
   "cell_type": "code",
   "execution_count": 9,
   "metadata": {
    "collapsed": false
   },
   "outputs": [
    {
     "data": {
      "text/plain": [
       "0.13690476190476192"
      ]
     },
     "execution_count": 9,
     "metadata": {},
     "output_type": "execute_result"
    }
   ],
   "source": [
    "AP(20, 'rnrnnrrnnnn')"
   ]
  },
  {
   "cell_type": "markdown",
   "metadata": {},
   "source": [
    "## Задание 2"
   ]
  },
  {
   "cell_type": "code",
   "execution_count": 74,
   "metadata": {
    "collapsed": true
   },
   "outputs": [],
   "source": [
    "def DCG(scale):\n",
    "    scale = np.array(scale).astype(float)\n",
    "    scale[1:] = scale[1:] / np.log(np.arange(2, len(scale)+1))\n",
    "    return scale.sum()"
   ]
  },
  {
   "cell_type": "code",
   "execution_count": 75,
   "metadata": {
    "collapsed": true
   },
   "outputs": [],
   "source": [
    "def IDCG(scale):\n",
    "    scale = np.sort(scale)[::-1]\n",
    "    return DCG(scale)"
   ]
  },
  {
   "cell_type": "code",
   "execution_count": 76,
   "metadata": {
    "collapsed": true
   },
   "outputs": [],
   "source": [
    "def nDCG(scale):\n",
    "    return DCG(scale)/IDCG(scale)"
   ]
  },
  {
   "cell_type": "code",
   "execution_count": 77,
   "metadata": {
    "collapsed": true
   },
   "outputs": [],
   "source": [
    "s1 = [4, 2, 3, 1, 2]\n",
    "s2 = [3, 2, 4, 4, 4]"
   ]
  },
  {
   "cell_type": "code",
   "execution_count": 83,
   "metadata": {
    "collapsed": false
   },
   "outputs": [
    {
     "name": "stdout",
     "output_type": "stream",
     "text": [
      "nDCG for system 1: 0.94821178667\n",
      "nDCG for system 2: 0.885758036604\n",
      "System 1 is better!\n"
     ]
    }
   ],
   "source": [
    "print \"nDCG for system 1: {0}\".format(nDCG(s1))\n",
    "print \"nDCG for system 2: {0}\".format(nDCG(s2))\n",
    "print \"System {0} is better!\".format(1 if nDCG(s1) > nDCG(s2) else 2)"
   ]
  },
  {
   "cell_type": "code",
   "execution_count": null,
   "metadata": {
    "collapsed": true
   },
   "outputs": [],
   "source": []
  }
 ],
 "metadata": {
  "kernelspec": {
   "display_name": "Python 2",
   "language": "python",
   "name": "python2"
  },
  "language_info": {
   "codemirror_mode": {
    "name": "ipython",
    "version": 2
   },
   "file_extension": ".py",
   "mimetype": "text/x-python",
   "name": "python",
   "nbconvert_exporter": "python",
   "pygments_lexer": "ipython2",
   "version": "2.7.12"
  }
 },
 "nbformat": 4,
 "nbformat_minor": 1
}
