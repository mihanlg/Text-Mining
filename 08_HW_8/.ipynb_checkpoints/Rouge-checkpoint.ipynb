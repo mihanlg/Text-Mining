{
 "cells": [
  {
   "cell_type": "code",
   "execution_count": 6,
   "metadata": {
    "collapsed": true
   },
   "outputs": [],
   "source": [
    "from collections import Counter\n",
    "import re\n",
    "import pymorphy2"
   ]
  },
  {
   "cell_type": "code",
   "execution_count": 1,
   "metadata": {
    "collapsed": true
   },
   "outputs": [],
   "source": [
    "expert = u'\"Русгидро\", \"Росгеология\", \"Транснефть\" получат предложения перенести свои главные офисы на Дальний Восток'\n",
    "systems = [u'Компаниям «Русгидро», «Транснефть» и «Росгеология» предложили подумать о переезде на Дальний Восток.',\n",
    "           u'По словам вице-премьера по Дальнему Востоку переезд может как-то затронуть \"РусГидро\", \"Транснефть\" и \"Росгеологию\"']"
   ]
  },
  {
   "cell_type": "code",
   "execution_count": 19,
   "metadata": {
    "collapsed": true
   },
   "outputs": [],
   "source": [
    "words_splitter = re.compile(r'\\w+', re.U)"
   ]
  },
  {
   "cell_type": "code",
   "execution_count": 20,
   "metadata": {
    "collapsed": true
   },
   "outputs": [],
   "source": [
    "cache = {}"
   ]
  },
  {
   "cell_type": "code",
   "execution_count": 21,
   "metadata": {
    "collapsed": true
   },
   "outputs": [],
   "source": [
    "def tokenizer(text):\n",
    "    global cache\n",
    "    lemmatizer = pymorphy2.MorphAnalyzer()\n",
    "    result = []\n",
    "    for word in words_splitter.findall(text):\n",
    "        word_hash = hash(word)\n",
    "        if word_hash not in cache:\n",
    "            cache[word_hash] = lemmatizer.parse(word)[0].normal_form            \n",
    "        result.append(cache[word_hash])\n",
    "    return result"
   ]
  },
  {
   "cell_type": "code",
   "execution_count": 22,
   "metadata": {
    "collapsed": false
   },
   "outputs": [],
   "source": [
    "def rouge(expert, system):\n",
    "    ngrams_e = Counter(tokenizer(expert))\n",
    "    ngrams_s = Counter(tokenizer(system))\n",
    "    u = 0\n",
    "    total = len(ngrams_e)\n",
    "    for ngram in ngrams_e:\n",
    "        u += ngram in ngrams_s\n",
    "    return u/float(total)"
   ]
  },
  {
   "cell_type": "code",
   "execution_count": 29,
   "metadata": {
    "collapsed": false
   },
   "outputs": [
    {
     "name": "stdout",
     "output_type": "stream",
     "text": [
      "EXPERT:\n",
      "\"Русгидро\", \"Росгеология\", \"Транснефть\" получат предложения перенести свои главные офисы на Дальний Восток\n",
      "\n",
      "SYSTEM:\n",
      "Компаниям «Русгидро», «Транснефть» и «Росгеология» предложили подумать о переезде на Дальний Восток.\n",
      "\n",
      "ROUGE-1: 0.5\n",
      "----------------------------------------\n",
      "EXPERT:\n",
      "\"Русгидро\", \"Росгеология\", \"Транснефть\" получат предложения перенести свои главные офисы на Дальний Восток\n",
      "\n",
      "SYSTEM:\n",
      "По словам вице-премьера по Дальнему Востоку переезд может как-то затронуть \"РусГидро\", \"Транснефть\" и \"Росгеологию\"\n",
      "\n",
      "ROUGE-1: 0.416666666667\n",
      "----------------------------------------\n"
     ]
    }
   ],
   "source": [
    "for i in xrange(0,2):\n",
    "    print u'EXPERT:\\n{0}'.format(expert)\n",
    "    print\n",
    "    print u'SYSTEM:\\n{0}'.format(systems[i])\n",
    "    print\n",
    "    print u'ROUGE-1: {0}'.format(rouge(expert, systems[i]))\n",
    "    print '-'*40\n",
    "    "
   ]
  },
  {
   "cell_type": "markdown",
   "metadata": {},
   "source": [
    "## Вывод: исходя из величины ROUGE метрики - первая система составила более качественную аннтацию"
   ]
  },
  {
   "cell_type": "code",
   "execution_count": null,
   "metadata": {
    "collapsed": true
   },
   "outputs": [],
   "source": []
  }
 ],
 "metadata": {
  "kernelspec": {
   "display_name": "Python 2",
   "language": "python",
   "name": "python2"
  },
  "language_info": {
   "codemirror_mode": {
    "name": "ipython",
    "version": 2
   },
   "file_extension": ".py",
   "mimetype": "text/x-python",
   "name": "python",
   "nbconvert_exporter": "python",
   "pygments_lexer": "ipython2",
   "version": "2.7.12"
  }
 },
 "nbformat": 4,
 "nbformat_minor": 1
}
