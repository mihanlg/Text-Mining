{
 "cells": [
  {
   "cell_type": "markdown",
   "metadata": {},
   "source": [
    "# Part 1"
   ]
  },
  {
   "cell_type": "code",
   "execution_count": 63,
   "metadata": {
    "collapsed": true
   },
   "outputs": [],
   "source": [
    "import numpy as np\n",
    "from sklearn.preprocessing import normalize"
   ]
  },
  {
   "cell_type": "code",
   "execution_count": 64,
   "metadata": {
    "collapsed": false
   },
   "outputs": [],
   "source": [
    "terms = [u\"выбрать\", u\"отобрать\", u\"отбор\", u\"кандидат\", u\"претендент\"]\n",
    "df = np.array([70000, 50000, 70000, 70000, 30000])"
   ]
  },
  {
   "cell_type": "code",
   "execution_count": 129,
   "metadata": {
    "collapsed": true
   },
   "outputs": [],
   "source": [
    "Dr = 2\n",
    "V = 1000000\n",
    "idf = float(V)/df"
   ]
  },
  {
   "cell_type": "code",
   "execution_count": 130,
   "metadata": {
    "collapsed": false
   },
   "outputs": [],
   "source": [
    "qv = np.array([0,0,1,1,0])\n",
    "dv1 = np.array([0,1,0,1,1])\n",
    "dv2 = np.array([1,0,1,0,1])\n",
    "dv = np.vstack([dv1, dv2])"
   ]
  },
  {
   "cell_type": "code",
   "execution_count": 131,
   "metadata": {
    "collapsed": true
   },
   "outputs": [],
   "source": [
    "dv_idf = normalize(np.log10(dv*idf+1))"
   ]
  },
  {
   "cell_type": "code",
   "execution_count": 132,
   "metadata": {
    "collapsed": true
   },
   "outputs": [],
   "source": [
    "alpha = 0.7\n",
    "beta = 0.3"
   ]
  },
  {
   "cell_type": "code",
   "execution_count": 133,
   "metadata": {
    "collapsed": false
   },
   "outputs": [],
   "source": [
    "qm = alpha*qv + beta*1/Dr*np.sum(dv_idf, axis=0)"
   ]
  },
  {
   "cell_type": "code",
   "execution_count": 134,
   "metadata": {
    "collapsed": false
   },
   "outputs": [
    {
     "name": "stdout",
     "output_type": "stream",
     "text": [
      "Исходный вектор:\n",
      "[0 0 1 1 0]\n",
      "Полученный вектор:\n",
      "[ 0.07817648  0.08449863  0.77817648  0.77568376  0.19951742]\n",
      "Значения сместились на следующие значения:\n",
      "[ 0.07817648  0.08449863 -0.22182352 -0.22431624  0.19951742]\n"
     ]
    }
   ],
   "source": [
    "print 'Исходный вектор:'\n",
    "print qv\n",
    "print 'Полученный вектор:'\n",
    "print qm\n",
    "print 'Значения сместились на следующие значения:'\n",
    "print qm-qv"
   ]
  },
  {
   "cell_type": "code",
   "execution_count": null,
   "metadata": {
    "collapsed": true
   },
   "outputs": [],
   "source": []
  }
 ],
 "metadata": {
  "kernelspec": {
   "display_name": "Python 2",
   "language": "python",
   "name": "python2"
  },
  "language_info": {
   "codemirror_mode": {
    "name": "ipython",
    "version": 2
   },
   "file_extension": ".py",
   "mimetype": "text/x-python",
   "name": "python",
   "nbconvert_exporter": "python",
   "pygments_lexer": "ipython2",
   "version": "2.7.12"
  }
 },
 "nbformat": 4,
 "nbformat_minor": 1
}
