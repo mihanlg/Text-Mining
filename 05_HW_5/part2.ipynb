{
 "cells": [
  {
   "cell_type": "markdown",
   "metadata": {},
   "source": [
    "# Part 2"
   ]
  },
  {
   "cell_type": "markdown",
   "metadata": {},
   "source": [
    "## Code from HW3"
   ]
  },
  {
   "cell_type": "code",
   "execution_count": 1,
   "metadata": {
    "collapsed": true
   },
   "outputs": [],
   "source": [
    "import requests\n",
    "import pymorphy2\n",
    "import numpy as np\n",
    "import re\n",
    "from bs4 import BeautifulSoup\n",
    "from nltk.tokenize import sent_tokenize, word_tokenize\n",
    "from collections import defaultdict\n",
    "from sklearn.feature_extraction import DictVectorizer\n",
    "from sklearn.feature_extraction.text import TfidfTransformer"
   ]
  },
  {
   "cell_type": "code",
   "execution_count": 2,
   "metadata": {
    "collapsed": true
   },
   "outputs": [],
   "source": [
    "morph = pymorphy2.MorphAnalyzer()\n",
    "def normalize_split_sentence(sentence):\n",
    "    sentence_dict = defaultdict(int)\n",
    "    for word in word_tokenize(re.sub(r'[^\\w]|[0-9]+', ' ', sentence, flags=re.U), language='russian'):\n",
    "        sentence_dict[morph.parse(word)[0].normal_form] += 1\n",
    "    return sentence_dict"
   ]
  },
  {
   "cell_type": "code",
   "execution_count": 3,
   "metadata": {
    "collapsed": true
   },
   "outputs": [],
   "source": [
    "def extract_sentences(urls):\n",
    "    if type(urls) != list:\n",
    "        urls = [urls]\n",
    "    sentences = []\n",
    "    sentences_normal = []\n",
    "    for url in urls:\n",
    "        wiki = requests.get(url)\n",
    "        soup = BeautifulSoup(wiki.text, 'html.parser')\n",
    "        content = soup.find(id=\"mw-content-text\")\n",
    "        for p in content.findAll(['p', 'blockquote', 'ul'], recursive=False):\n",
    "            for sentence in sent_tokenize(p.text, language='russian'):\n",
    "                if len(sentence) > 4:\n",
    "                    sentences.append(sentence)\n",
    "                    sentences_normal.append(normalize_split_sentence(sentence))\n",
    "    return np.array(sentences), sentences_normal"
   ]
  },
  {
   "cell_type": "code",
   "execution_count": 4,
   "metadata": {
    "collapsed": true
   },
   "outputs": [],
   "source": [
    "def vectorize(sentences_normal, with_idf=True):\n",
    "    dict_to_vec = DictVectorizer()\n",
    "    vec_to_weights = TfidfTransformer(use_idf=with_idf)\n",
    "    sentences_weights = vec_to_weights.fit_transform(dict_to_vec.fit_transform(sentences_normal)).toarray()\n",
    "    vectorizer = lambda x: vec_to_weights.transform(dict_to_vec.transform(x)).toarray()\n",
    "    return sentences_weights, vectorizer"
   ]
  },
  {
   "cell_type": "code",
   "execution_count": 5,
   "metadata": {
    "collapsed": true
   },
   "outputs": [],
   "source": [
    "def sort_sentences_by_query(urls, query, with_idf=True):\n",
    "    sentences, sentences_normal = extract_sentences(urls)\n",
    "    sentences_weights, vectorizer = vectorize(sentences_normal, with_idf=with_idf)\n",
    "    query_weights = vectorizer(normalize_split_sentence(query))\n",
    "    cosine = np.sum(sentences_weights*query_weights, axis=1)\n",
    "    return sentences[cosine.argsort()[::-1]], cosine[cosine.argsort()[::-1]]"
   ]
  },
  {
   "cell_type": "code",
   "execution_count": 6,
   "metadata": {
    "collapsed": true
   },
   "outputs": [],
   "source": [
    "def print_sorted(sentences, cosine):\n",
    "    for i in xrange(len(sentences)):\n",
    "        print u'{0:2d} [weight={1:7.5f}]: {2}'.format(i+1, cosine[i], sentences[i])"
   ]
  },
  {
   "cell_type": "markdown",
   "metadata": {},
   "source": [
    "## Code from HW4"
   ]
  },
  {
   "cell_type": "code",
   "execution_count": 7,
   "metadata": {
    "collapsed": true
   },
   "outputs": [],
   "source": [
    "def DCG(scale):\n",
    "    scale = np.array(scale).astype(float)\n",
    "    scale[1:] = scale[1:] / np.log2(np.arange(2, len(scale)+1))\n",
    "    return scale.sum()"
   ]
  },
  {
   "cell_type": "code",
   "execution_count": 8,
   "metadata": {
    "collapsed": true
   },
   "outputs": [],
   "source": [
    "def IDCG(scale):\n",
    "    return DCG(np.sort(scale)[::-1])"
   ]
  },
  {
   "cell_type": "code",
   "execution_count": 9,
   "metadata": {
    "collapsed": true
   },
   "outputs": [],
   "source": [
    "def nDCG(scale):\n",
    "    return DCG(scale)/IDCG(scale)"
   ]
  },
  {
   "cell_type": "markdown",
   "metadata": {},
   "source": [
    "# Задание"
   ]
  },
  {
   "cell_type": "markdown",
   "metadata": {},
   "source": [
    "## Запрос 1: Мишель Обама и Пэн Лиюань назвали сына знаменитой панды (на илл.) «драгоценным сокровищем»."
   ]
  },
  {
   "cell_type": "code",
   "execution_count": 10,
   "metadata": {
    "collapsed": true
   },
   "outputs": [],
   "source": [
    "url = u'https://ru.wikipedia.org/wiki/Мэй_Сян'\n",
    "query = u'Мишель Обама и Пэн Лиюань назвали сына знаменитой панды (на илл.) «драгоценным сокровищем».'"
   ]
  },
  {
   "cell_type": "markdown",
   "metadata": {},
   "source": [
    "### Разметим предложения"
   ]
  },
  {
   "cell_type": "code",
   "execution_count": 11,
   "metadata": {
    "collapsed": false
   },
   "outputs": [],
   "source": [
    "sentences, _ = extract_sentences(url)\n",
    "\n",
    "marks = defaultdict(int)\n",
    "marks[sentences[18]] = 2\n",
    "marks[sentences[19]] = 2\n",
    "marks[sentences[20]] = 2\n",
    "marks[sentences[17]] = 1"
   ]
  },
  {
   "cell_type": "markdown",
   "metadata": {},
   "source": [
    "# Лучший порядок:"
   ]
  },
  {
   "cell_type": "code",
   "execution_count": 12,
   "metadata": {
    "collapsed": false
   },
   "outputs": [
    {
     "name": "stdout",
     "output_type": "stream",
     "text": [
      "2:\tПервые леди раскрыли свитки с именем медведя — Обама показала присутствующим написание имени на английском языке, а Пэн Лиюань — на китайском[6].\n",
      "2:\tПервые леди назвали панду «Бэй Бэй».\n",
      "2:\tИмя Бэй Бэй переводится как «драгоценное сокровище».\n",
      "1:\t25 сентября 2015 года малыша навестили первая леди США, Мишель Обама, и первая леди Китая Пэн Люиянь.\n",
      "...(остальные предложения)\n"
     ]
    }
   ],
   "source": [
    "best_order = [18, 19, 20, 17]\n",
    "for i in best_order:\n",
    "    print u'{0}:\\t{1}'.format(marks[sentences[i]], sentences[i])\n",
    "print u'...(остальные предложения)'"
   ]
  },
  {
   "cell_type": "markdown",
   "metadata": {},
   "source": [
    "## Оценим системы с IDF и без IDF"
   ]
  },
  {
   "cell_type": "code",
   "execution_count": 13,
   "metadata": {
    "collapsed": false
   },
   "outputs": [],
   "source": [
    "sentences_sorted, cosine = sort_sentences_by_query(url, query, with_idf=True)\n",
    "s_idf = [marks[sent] for sent in sentences_sorted]"
   ]
  },
  {
   "cell_type": "code",
   "execution_count": 14,
   "metadata": {
    "collapsed": true
   },
   "outputs": [],
   "source": [
    "sentences_sorted, cosine = sort_sentences_by_query(url, query, with_idf=False)\n",
    "s_no_idf = [marks[sent] for sent in sentences_sorted]"
   ]
  },
  {
   "cell_type": "code",
   "execution_count": 15,
   "metadata": {
    "collapsed": false
   },
   "outputs": [
    {
     "name": "stdout",
     "output_type": "stream",
     "text": [
      "System with IDF: 0.913222458934\n",
      "System without IDF: 0.804437998683\n",
      "Average nDCG: 0.858830228808\n"
     ]
    }
   ],
   "source": [
    "print 'System with IDF: {0}'.format(nDCG(s_idf))\n",
    "print 'System without IDF: {0}'.format(nDCG(s_no_idf))\n",
    "print 'Average nDCG: {0}'.format(np.mean([nDCG(x) for x in [s_idf, s_no_idf]]))"
   ]
  },
  {
   "cell_type": "markdown",
   "metadata": {},
   "source": [
    "## Запрос 2: Создатель бело-красно-белого флага (на илл.) сидел в немецких и советских лагерях."
   ]
  },
  {
   "cell_type": "code",
   "execution_count": 16,
   "metadata": {
    "collapsed": true
   },
   "outputs": [],
   "source": [
    "url = u'https://ru.wikipedia.org/wiki/Дуж-Душевский,_Клавдий_Степанович'\n",
    "query = u'Создатель бело-красно-белого флага (на илл.) сидел в немецких и советских лагерях.'"
   ]
  },
  {
   "cell_type": "markdown",
   "metadata": {},
   "source": [
    "### Разметим предложения"
   ]
  },
  {
   "cell_type": "code",
   "execution_count": 17,
   "metadata": {
    "collapsed": true
   },
   "outputs": [],
   "source": [
    "sentences, _ = extract_sentences(url)"
   ]
  },
  {
   "cell_type": "code",
   "execution_count": 18,
   "metadata": {
    "collapsed": false
   },
   "outputs": [],
   "source": [
    "marks = defaultdict(int)\n",
    "marks[sentences[2]] = 1\n",
    "marks[sentences[28]] = 2\n",
    "marks[sentences[29]] = 2\n",
    "marks[sentences[30]] = 1\n",
    "marks[sentences[31]] = 1"
   ]
  },
  {
   "cell_type": "markdown",
   "metadata": {},
   "source": [
    "# Лучший порядок:"
   ]
  },
  {
   "cell_type": "code",
   "execution_count": 19,
   "metadata": {
    "collapsed": false
   },
   "outputs": [
    {
     "name": "stdout",
     "output_type": "stream",
     "text": [
      "2:\tПосле оккупации Литовской ССР немецкой армией отказался от сотрудничества с немцами, за что (а также за помощь евреям) в 1943 году попал в концлагерь[3].\n",
      "2:\tПосле освобождения Литвы короткое время работал доцентом Каунасского университета, но в 1946 году вновь был арестован советскими властями.\n",
      "1:\tБыл приговорён к 25 годам заключения с конфискацией имущества, однако затем срок был сокращён до 10 лет.\n",
      "1:\tПо состоянию здоровья Дуж-Душевский досрочно был освобождён из тюрьмы в 1955 году.\n",
      "1:\tСчитается автором[1][2] бело-красно-белого флага — официального флага Белорусской народной республики (1918—1919) и Республики Беларусь (1991—1995).\n",
      "...(остальные предложения)\n"
     ]
    }
   ],
   "source": [
    "best_order = [28, 29, 30, 31, 2]\n",
    "for i in best_order:\n",
    "    print u'{0}:\\t{1}'.format(marks[sentences[i]], sentences[i])\n",
    "print u'...(остальные предложения)'"
   ]
  },
  {
   "cell_type": "markdown",
   "metadata": {},
   "source": [
    "## Оценим системы с IDF и без IDF"
   ]
  },
  {
   "cell_type": "code",
   "execution_count": 20,
   "metadata": {
    "collapsed": false
   },
   "outputs": [],
   "source": [
    "sentences_sorted, cosine = sort_sentences_by_query(url, query, with_idf=True)\n",
    "s_idf = [marks[sent] for sent in sentences_sorted]"
   ]
  },
  {
   "cell_type": "code",
   "execution_count": 21,
   "metadata": {
    "collapsed": true
   },
   "outputs": [],
   "source": [
    "sentences_sorted, cosine = sort_sentences_by_query(url, query, with_idf=False)\n",
    "s_no_idf = [marks[sent] for sent in sentences_sorted]"
   ]
  },
  {
   "cell_type": "code",
   "execution_count": 22,
   "metadata": {
    "collapsed": false
   },
   "outputs": [
    {
     "name": "stdout",
     "output_type": "stream",
     "text": [
      "System with IDF: 0.765318519438\n",
      "System without IDF: 0.444545686425\n",
      "Average nDCG: 0.604932102931\n"
     ]
    }
   ],
   "source": [
    "print 'System with IDF: {0}'.format(nDCG(s_idf))\n",
    "print 'System without IDF: {0}'.format(nDCG(s_no_idf))\n",
    "print 'Average nDCG: {0}'.format(np.mean([nDCG(x) for x in [s_idf, s_no_idf]]))"
   ]
  },
  {
   "cell_type": "markdown",
   "metadata": {},
   "source": [
    "## Запрос 3: Минирование берегов спасает популяцию пингвинов."
   ]
  },
  {
   "cell_type": "code",
   "execution_count": 23,
   "metadata": {
    "collapsed": true
   },
   "outputs": [],
   "source": [
    "url = u'https://ru.wikipedia.org/wiki/FMK-3_(мина)'\n",
    "query = u'Минирование берегов спасает популяцию пингвинов.'"
   ]
  },
  {
   "cell_type": "markdown",
   "metadata": {},
   "source": [
    "### Разметим предложения"
   ]
  },
  {
   "cell_type": "code",
   "execution_count": 24,
   "metadata": {
    "collapsed": true
   },
   "outputs": [],
   "source": [
    "sentences, _ = extract_sentences(url)"
   ]
  },
  {
   "cell_type": "code",
   "execution_count": 25,
   "metadata": {
    "collapsed": false
   },
   "outputs": [],
   "source": [
    "marks = defaultdict(int)\n",
    "marks[sentences[12]] = 2\n",
    "marks[sentences[13]] = 1\n",
    "marks[sentences[14]] = 2"
   ]
  },
  {
   "cell_type": "markdown",
   "metadata": {},
   "source": [
    "# Лучший порядок:"
   ]
  },
  {
   "cell_type": "code",
   "execution_count": 26,
   "metadata": {
    "collapsed": false
   },
   "outputs": [
    {
     "name": "stdout",
     "output_type": "stream",
     "text": [
      "2:\tЭти огороженные колючей проволокой территории неожиданно способствовали увеличению популяции пингвинов, находившихся здесь на грани исчезновения[10].\n",
      "2:\tТаким образом, они могут благополучно размножаться без помех со стороны людей.\n",
      "1:\tВес пингвина оказался недостачным для срабатывания мин.\n",
      "...(остальные предложения)\n"
     ]
    }
   ],
   "source": [
    "best_order = [12, 14, 13]\n",
    "for i in best_order:\n",
    "    print u'{0}:\\t{1}'.format(marks[sentences[i]], sentences[i])\n",
    "print u'...(остальные предложения)'"
   ]
  },
  {
   "cell_type": "markdown",
   "metadata": {},
   "source": [
    "## Оценим системы с IDF и без IDF"
   ]
  },
  {
   "cell_type": "code",
   "execution_count": 27,
   "metadata": {
    "collapsed": false
   },
   "outputs": [],
   "source": [
    "sentences_sorted, cosine = sort_sentences_by_query(url, query, with_idf=True)\n",
    "s_idf = [marks[sent] for sent in sentences_sorted]"
   ]
  },
  {
   "cell_type": "code",
   "execution_count": 28,
   "metadata": {
    "collapsed": false
   },
   "outputs": [
    {
     "name": "stdout",
     "output_type": "stream",
     "text": [
      " 1 [weight=0.28399]: Эти огороженные колючей проволокой территории неожиданно способствовали увеличению популяции пингвинов, находившихся здесь на грани исчезновения[10].\n",
      " 2 [weight=0.25425]: В. Минное оружие: вопросы минирования и разминирования.\n",
      " 3 [weight=0.20588]: Вес пингвина оказался недостачным для срабатывания мин.\n",
      " 4 [weight=0.00000]: Разработана в Аргентине.\n",
      " 5 [weight=0.00000]: Производство велось государственной оборонной компанией DGFM (англ.)русск..\n"
     ]
    }
   ],
   "source": [
    "print_sorted(sentences_sorted[:5], cosine[:5])"
   ]
  },
  {
   "cell_type": "code",
   "execution_count": 29,
   "metadata": {
    "collapsed": true
   },
   "outputs": [],
   "source": [
    "sentences_sorted, cosine = sort_sentences_by_query(url, query, with_idf=False)\n",
    "s_no_idf = [marks[sent] for sent in sentences_sorted]"
   ]
  },
  {
   "cell_type": "code",
   "execution_count": 30,
   "metadata": {
    "collapsed": false
   },
   "outputs": [
    {
     "name": "stdout",
     "output_type": "stream",
     "text": [
      " 1 [weight=0.29814]: Эти огороженные колючей проволокой территории неожиданно способствовали увеличению популяции пингвинов, находившихся здесь на грани исчезновения[10].\n",
      " 2 [weight=0.21822]: Вес пингвина оказался недостачным для срабатывания мин.\n",
      " 3 [weight=0.21822]: В. Минное оружие: вопросы минирования и разминирования.\n",
      " 4 [weight=0.00000]: Разработана в Аргентине.\n",
      " 5 [weight=0.00000]: Производство велось государственной оборонной компанией DGFM (англ.)русск..\n"
     ]
    }
   ],
   "source": [
    "print_sorted(sentences_sorted[:5], cosine[:5])"
   ]
  },
  {
   "cell_type": "code",
   "execution_count": 31,
   "metadata": {
    "collapsed": false
   },
   "outputs": [
    {
     "name": "stdout",
     "output_type": "stream",
     "text": [
      "System with IDF: 0.673780645323\n",
      "System without IDF: 0.753477437559\n",
      "Average nDCG: 0.713629041441\n"
     ]
    }
   ],
   "source": [
    "print 'System with IDF: {0}'.format(nDCG(s_idf))\n",
    "print 'System without IDF: {0}'.format(nDCG(s_no_idf))\n",
    "print 'Average nDCG: {0}'.format(np.mean([nDCG(x) for x in [s_idf, s_no_idf]]))"
   ]
  },
  {
   "cell_type": "markdown",
   "metadata": {},
   "source": [
    "# Вывод"
   ]
  },
  {
   "cell_type": "markdown",
   "metadata": {},
   "source": [
    "### Обычно система с IDF показывает лучший результат, но в последнем примере видно, что система без IDF показазала себя лучше. Связано это с тем, что запрос никак не расширялся и для поиска использовались только формы слов из запроса. В запросе попались низкочастотные слова (минирование)  и предожение с этим словом вышло на 2-е место в IDF-системе, хотя оно несет меньше полезной информации по запросу. (В защиту IDF можно сказать, что DF присвоила одинаковый вес этому предложение и размеченному, которое в IDF оказалось ниже)."
   ]
  },
  {
   "cell_type": "code",
   "execution_count": null,
   "metadata": {
    "collapsed": true
   },
   "outputs": [],
   "source": []
  }
 ],
 "metadata": {
  "kernelspec": {
   "display_name": "Python 2",
   "language": "python",
   "name": "python2"
  },
  "language_info": {
   "codemirror_mode": {
    "name": "ipython",
    "version": 2
   },
   "file_extension": ".py",
   "mimetype": "text/x-python",
   "name": "python",
   "nbconvert_exporter": "python",
   "pygments_lexer": "ipython2",
   "version": "2.7.12"
  }
 },
 "nbformat": 4,
 "nbformat_minor": 1
}
