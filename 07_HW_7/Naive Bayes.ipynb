{
 "cells": [
  {
   "cell_type": "code",
   "execution_count": 1,
   "metadata": {
    "collapsed": true
   },
   "outputs": [],
   "source": [
    "import numpy as np"
   ]
  },
  {
   "cell_type": "markdown",
   "metadata": {},
   "source": [
    "# Дано"
   ]
  },
  {
   "cell_type": "code",
   "execution_count": 2,
   "metadata": {
    "collapsed": true
   },
   "outputs": [],
   "source": [
    "#Known\n",
    "D1 = (np.array([1,1,1,0,0,0]), 0)\n",
    "D2 = (np.array([1,1,0,1,0,0]), 0)\n",
    "D3 = (np.array([0,0,0,1,1,1]), 1)\n",
    "Docs = [D1, D2, D3]\n",
    "#Unknown\n",
    "D4 = np.array([1,0,0,1,1,0])"
   ]
  },
  {
   "cell_type": "code",
   "execution_count": 3,
   "metadata": {
    "collapsed": true
   },
   "outputs": [],
   "source": [
    "def select_docs(C):\n",
    "    global Docs\n",
    "    return filter(lambda x: x[1] == C, Docs)"
   ]
  },
  {
   "cell_type": "code",
   "execution_count": 4,
   "metadata": {
    "collapsed": true
   },
   "outputs": [],
   "source": [
    "def P(C):\n",
    "    global Docs\n",
    "    return len(select_docs(C))/float(len(Docs))"
   ]
  },
  {
   "cell_type": "code",
   "execution_count": 5,
   "metadata": {
    "collapsed": true
   },
   "outputs": [],
   "source": [
    "alpha = 0.1\n",
    "def Pxc(C):\n",
    "    global Docs\n",
    "    docs = select_docs(C)\n",
    "    return (np.sum(docs, axis=0)[0] + alpha)/(np.sum(Docs, axis=0)[0] + alpha*Docs[0][0].shape[0])"
   ]
  },
  {
   "cell_type": "markdown",
   "metadata": {},
   "source": [
    "## Naive Bayes с логарифмом"
   ]
  },
  {
   "cell_type": "code",
   "execution_count": 6,
   "metadata": {
    "collapsed": true
   },
   "outputs": [],
   "source": [
    "def Naive(C, D):\n",
    "    return np.log(P(C)) + np.sum(np.log(Pxc(C))*D)"
   ]
  },
  {
   "cell_type": "markdown",
   "metadata": {},
   "source": [
    "# Вычисление класса"
   ]
  },
  {
   "cell_type": "code",
   "execution_count": 9,
   "metadata": {
    "collapsed": false
   },
   "outputs": [
    {
     "name": "stdout",
     "output_type": "stream",
     "text": [
      "Class 0 for D4: -4.25182919587\n",
      "Class 1 for D4: -5.59160354135\n"
     ]
    }
   ],
   "source": [
    "nb = [Naive(0, D4), Naive(1, D4)]\n",
    "print 'Class 0 for D4: {0}'.format(nb[0])\n",
    "print 'Class 1 for D4: {0}'.format(nb[1])"
   ]
  },
  {
   "cell_type": "code",
   "execution_count": 10,
   "metadata": {
    "collapsed": false
   },
   "outputs": [
    {
     "name": "stdout",
     "output_type": "stream",
     "text": [
      "Max value: -4.25182919587 for class: 0\n"
     ]
    }
   ],
   "source": [
    "print 'Max value: {0} for class: {1}'.format(np.max(nb), np.argmax(nb))"
   ]
  },
  {
   "cell_type": "markdown",
   "metadata": {},
   "source": [
    "## Таким образом, документ относится к классу 0 (первому)"
   ]
  }
 ],
 "metadata": {
  "kernelspec": {
   "display_name": "Python 2",
   "language": "python",
   "name": "python2"
  },
  "language_info": {
   "codemirror_mode": {
    "name": "ipython",
    "version": 2
   },
   "file_extension": ".py",
   "mimetype": "text/x-python",
   "name": "python",
   "nbconvert_exporter": "python",
   "pygments_lexer": "ipython2",
   "version": "2.7.12"
  }
 },
 "nbformat": 4,
 "nbformat_minor": 1
}
