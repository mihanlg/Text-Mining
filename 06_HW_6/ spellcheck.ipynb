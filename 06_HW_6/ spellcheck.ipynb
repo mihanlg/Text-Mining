{
 "cells": [
  {
   "cell_type": "markdown",
   "metadata": {},
   "source": [
    "# Задача на опечатки"
   ]
  },
  {
   "cell_type": "markdown",
   "metadata": {},
   "source": [
    "## Встретилось слово hodtel. Какое исходно слово наиболее вероятно: hotel, hostel?\n",
    "- #### Ошибка od|o встречалась 9 раз\n",
    "- #### Ошибка d|s- встречалась 7 раз\n",
    "- #### Hotel встречается в пять раз чаще, чем hostel\n",
    "- #### Буква o встречается в корпусе в 1.2 раза чаще, чем буква s\n",
    "\n",
    "## Два варианта расчета: \n",
    "- ### Без сглаживания\n",
    "- ### Сглаживание по Лапласу"
   ]
  },
  {
   "cell_type": "code",
   "execution_count": 1,
   "metadata": {
    "collapsed": true
   },
   "outputs": [],
   "source": [
    "Error_Model = {(u'od',u'o'): 9.0, (u'd', u's'): 7.0}\n",
    "Language_Model = {'words': {u'hotel': 50., u'hostel': 10.},  'letters': {u'o': 120., u's': 100.}}"
   ]
  },
  {
   "cell_type": "code",
   "execution_count": 2,
   "metadata": {
    "collapsed": true
   },
   "outputs": [],
   "source": [
    "def subtraction(x, w):\n",
    "    return Error_Model[(x, w)]"
   ]
  },
  {
   "cell_type": "code",
   "execution_count": 3,
   "metadata": {
    "collapsed": true
   },
   "outputs": [],
   "source": [
    "def insertion(x,w):\n",
    "    return Error_Model[(x+w, x)]"
   ]
  },
  {
   "cell_type": "markdown",
   "metadata": {},
   "source": [
    "другие функции..."
   ]
  },
  {
   "cell_type": "code",
   "execution_count": 4,
   "metadata": {
    "collapsed": true
   },
   "outputs": [],
   "source": [
    "def count(x):\n",
    "    return Language_Model['letters'][x]"
   ]
  },
  {
   "cell_type": "code",
   "execution_count": 5,
   "metadata": {
    "collapsed": true
   },
   "outputs": [],
   "source": [
    "A = 26\n",
    "def laplace(u, d):\n",
    "    return (u + 1.0)/(d + A)"
   ]
  },
  {
   "cell_type": "code",
   "execution_count": 6,
   "metadata": {
    "collapsed": true
   },
   "outputs": [],
   "source": [
    "def Pw(x):\n",
    "    return Language_Model['words'][x]/sum(Language_Model['words'].values())"
   ]
  },
  {
   "cell_type": "code",
   "execution_count": 7,
   "metadata": {
    "collapsed": true
   },
   "outputs": [],
   "source": [
    "def Pxw(x, w, typ, _laplace = False):\n",
    "    if typ == 'del':\n",
    "        u = deletion(x, w)\n",
    "        d = count(x+w)\n",
    "    elif typ == 'ins':\n",
    "        u = insertion(x, w)\n",
    "        d = count(x)\n",
    "    elif typ == 'sub':\n",
    "        u = subtraction(x, w)\n",
    "        d = count(w)\n",
    "    elif typ == 'trans':\n",
    "        u = transpositiob(x, w)\n",
    "        d = count(x+w)\n",
    "    else:\n",
    "        print 'Unknown type of error'\n",
    "        return\n",
    "    if _laplace:\n",
    "        return laplace(u, d)\n",
    "    else:\n",
    "        return u/d"
   ]
  },
  {
   "cell_type": "markdown",
   "metadata": {},
   "source": [
    "# Без сглаживания"
   ]
  },
  {
   "cell_type": "code",
   "execution_count": 8,
   "metadata": {
    "collapsed": true
   },
   "outputs": [],
   "source": [
    "weights = []"
   ]
  },
  {
   "cell_type": "code",
   "execution_count": 9,
   "metadata": {
    "collapsed": false
   },
   "outputs": [],
   "source": [
    "var1 = u'hotel'\n",
    "errors1 = [(u'o', u'd', 'ins')]\n",
    "weights.append(Pw(var1) * reduce(lambda x, y: x*y, [Pxw(x,w,typ) for (x,w,typ) in errors1]))"
   ]
  },
  {
   "cell_type": "code",
   "execution_count": 10,
   "metadata": {
    "collapsed": false
   },
   "outputs": [],
   "source": [
    "var2 = u'hostel'\n",
    "errors2 = [(u'd', u's', 'sub')]\n",
    "weights.append(Pw(var2) * reduce(lambda x, y: x*y, [Pxw(x,w,typ) for (x,w,typ) in errors2]))"
   ]
  },
  {
   "cell_type": "code",
   "execution_count": 11,
   "metadata": {
    "collapsed": false
   },
   "outputs": [],
   "source": [
    "probs = [weight/sum(weights) for weight in weights]"
   ]
  },
  {
   "cell_type": "code",
   "execution_count": 12,
   "metadata": {
    "collapsed": false,
    "scrolled": true
   },
   "outputs": [
    {
     "name": "stdout",
     "output_type": "stream",
     "text": [
      "Query: hodtel\n",
      "Corrections without Laplace:\n",
      "hotel\t--\tprbability: 0.842696629213\n",
      "hostel\t--\tprbability: 0.157303370787\n"
     ]
    }
   ],
   "source": [
    "print u'Query: hodtel'\n",
    "print u'Corrections without Laplace:'\n",
    "for i, word in enumerate([var1, var2]):\n",
    "    print u'{0}\\t--\\tprbability: {1}'.format(word, probs[i])"
   ]
  },
  {
   "cell_type": "markdown",
   "metadata": {},
   "source": [
    "# Со сглаживанием"
   ]
  },
  {
   "cell_type": "code",
   "execution_count": 13,
   "metadata": {
    "collapsed": true
   },
   "outputs": [],
   "source": [
    "weights = []"
   ]
  },
  {
   "cell_type": "code",
   "execution_count": 14,
   "metadata": {
    "collapsed": false
   },
   "outputs": [],
   "source": [
    "var1 = u'hotel'\n",
    "errors1 = [(u'o', u'd', 'ins')]\n",
    "weights.append(Pw(var1) * reduce(lambda x, y: x*y, [Pxw(x,w,typ,True) for (x,w,typ) in errors1]))"
   ]
  },
  {
   "cell_type": "code",
   "execution_count": 15,
   "metadata": {
    "collapsed": false
   },
   "outputs": [],
   "source": [
    "var2 = u'hostel'\n",
    "errors2 = [(u'd', u's', 'sub')]\n",
    "weights.append(Pw(var2) * reduce(lambda x, y: x*y, [Pxw(x,w,typ,True) for (x,w,typ) in errors2]))"
   ]
  },
  {
   "cell_type": "code",
   "execution_count": 16,
   "metadata": {
    "collapsed": false
   },
   "outputs": [],
   "source": [
    "probs = [weight/sum(weights) for weight in weights]"
   ]
  },
  {
   "cell_type": "code",
   "execution_count": 17,
   "metadata": {
    "collapsed": false
   },
   "outputs": [
    {
     "name": "stdout",
     "output_type": "stream",
     "text": [
      "Query: hodtel\n",
      "Corrections with Laplace:\n",
      "hotel\t--\tprbability: 0.843599357258\n",
      "hostel\t--\tprbability: 0.156400642742\n"
     ]
    }
   ],
   "source": [
    "print u'Query: hodtel'\n",
    "print u'Corrections with Laplace:'\n",
    "for i, word in enumerate([var1, var2]):\n",
    "    print u'{0}\\t--\\tprbability: {1}'.format(word, probs[i])"
   ]
  },
  {
   "cell_type": "code",
   "execution_count": null,
   "metadata": {
    "collapsed": true
   },
   "outputs": [],
   "source": []
  }
 ],
 "metadata": {
  "kernelspec": {
   "display_name": "Python 2",
   "language": "python",
   "name": "python2"
  },
  "language_info": {
   "codemirror_mode": {
    "name": "ipython",
    "version": 2
   },
   "file_extension": ".py",
   "mimetype": "text/x-python",
   "name": "python",
   "nbconvert_exporter": "python",
   "pygments_lexer": "ipython2",
   "version": "2.7.12"
  }
 },
 "nbformat": 4,
 "nbformat_minor": 1
}
